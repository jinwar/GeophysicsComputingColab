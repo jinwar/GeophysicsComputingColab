{
  "cells": [
    {
      "cell_type": "markdown",
      "metadata": {
        "id": "view-in-github",
        "colab_type": "text"
      },
      "source": [
        "<a href=\"https://colab.research.google.com/github/jinwar/GeophysicsComputingColab/blob/main/08_Numerical_Integration.ipynb\" target=\"_parent\"><img src=\"https://colab.research.google.com/assets/colab-badge.svg\" alt=\"Open In Colab\"/></a>"
      ]
    },
    {
      "cell_type": "code",
      "execution_count": 2,
      "metadata": {
        "id": "0VRXc5HqHLxV"
      },
      "outputs": [],
      "source": [
        "import numpy as np\n",
        "import pandas as pd\n",
        "import matplotlib.pyplot as plt\n",
        "from IPython.display import HTML"
      ]
    },
    {
      "cell_type": "markdown",
      "source": [
        "<font size=\"6\"><center><b>GPGN 436/536</b></center></font>\n",
        "\n",
        "<font size=\"4\">       \n",
        "    \n",
        "<center> Dr. Ge Jin and Dr. Jeff Shragge\n",
        "    \n",
        "<center> Geophysics Department\n",
        "    \n",
        "<center> Colorado School of Mines"
      ],
      "metadata": {
        "id": "HPEfTWkDHXXL"
      }
    },
    {
      "cell_type": "markdown",
      "metadata": {
        "id": "7Z8uRkXeHLxV"
      },
      "source": [
        "<h1><center>Module 8: Numerical Integration</center></h1>\n",
        "\n",
        "Numerical quadrature, or numerical integration, is commonly used when the integrals are very difficult or even impossible to solve analytically. For example, one of the most commonly used function, the error function $erf(x) = \\frac{2}{\\pi}\\int_0^x e^{t^2}dt$, has been proved to have no analytical form of solution. We need methods from numerical analysis to evaluate such integrals.\n",
        "\n",
        "We also need the algorithms when the integrand of the integral to be evaluated does not have an analytical form. For example, we may need to calculate the volume of a reservoir from seismic horizons, or to obtain accumulative production volume of a well from daily production rate measurement.\n",
        "\n",
        "In general, numeric integration means the numeric evaluation of integrals\n",
        "$$\n",
        "J = \\int_a^b f(x)dx\n",
        "$$\n",
        "where $a$ and $b$ are given and $f$ is a function given analytically by a formula or empirically by a table of values.\n",
        "Geometrically, $J$ is the area under the curve of $f$ between $a$ and $b$.\n",
        "\n",
        "<center>\n",
        "<img src=\"https://github.com/jinwar/GeophysicsComputingColab/blob/dbbfe74fc4d9d110871a9687a8362ddff9c0fc45/figures/figure440.png?raw=1\n",
        "\" width=\"500\">\n",
        "</center>"
      ]
    },
    {
      "cell_type": "markdown",
      "metadata": {
        "id": "8jOYvwg_HLxV"
      },
      "source": [
        "## Rectangular Rule\n",
        "Rectangular rule is the simplest way to perform the numerical integration. It requires subdividing the interval of integration $a\\leq x \\leq b$ into $n$ subintervals of equal length $h=(b-a)/n$, and in each subinterval approximate $f$ by the constant $f(x^*_j)$, which is the value of $f$ at the midpoint $x_j^*$ of the $j$th subinterval.\n",
        "In this way, $f$ is approximated by a **step function** (piecewise constant function), and the $n$ rectangles have the areas $f(x_j^*)h$. The rectangular rule can be presented as:\n",
        "$$\n",
        "J = \\int_a^b f(x)dx \\approx h \\sum_{i=1}^{n} f(x_i^*)\n",
        "$$\n",
        "where $x_i^* = a + (i-1/2)h$.\n",
        "\n",
        "<center>\n",
        "<img src=\"https://github.com/jinwar/GeophysicsComputingColab/blob/dbbfe74fc4d9d110871a9687a8362ddff9c0fc45/figures/figure441.png?raw=1\n",
        "\" width=\"500\">\n",
        "</center>"
      ]
    },
    {
      "cell_type": "markdown",
      "metadata": {
        "id": "vrzYnEu2HLxW"
      },
      "source": [
        "### Python example of rectangular rule\n",
        "Let's calculate a simple integration using rectangular rule:\n",
        "$$\\int_{-1}^1 (1-x^2) dx .$$\n",
        "As we already know, this integral has the analytic solution as:\n",
        "$$\n",
        "\\int_{-1}^1 (1-x^2) dx =\n",
        "\\left. x-\\frac{x^3}{3} \\right|_{-1}^{+1} = \\frac{4}{3}\n",
        "$$\n"
      ]
    },
    {
      "cell_type": "code",
      "execution_count": 3,
      "metadata": {
        "id": "kbY3CAQuHLxW"
      },
      "outputs": [],
      "source": [
        "# define the function to perform rectangular integration\n",
        "def rect_int(fun,a,b,N,isfigure=False):\n",
        "    ''' Function to perform rectangular integration.\n",
        "    usage: val = rect_int(fun,a,b,N,isfigure=False)\n",
        "    input:\n",
        "        fun: function to be integrated\n",
        "        a,b: integral interval\n",
        "        N: number of subintervals\n",
        "        isfigure: plot the function and the mid points for demonstration\n",
        "    written by Ge Jin, gjin@mines.edu, 06/2019\n",
        "    '''\n",
        "    h = (b-a)/N # calculate subinterval length\n",
        "    xi = a+(np.arange(N)+0.5)*h # calculate the location of mid points\n",
        "    yi = fun(xi) # evaluate mid point values\n",
        "    val = np.sum(yi)*h # calculate the result\n",
        "    if isfigure:\n",
        "        x = np.linspace(a,b,100)\n",
        "        y = fun(x)\n",
        "        plt.plot(x,y,label='Integrand')\n",
        "        plt.plot(xi,yi,'ro',label='Mid Points')\n",
        "    return val"
      ]
    },
    {
      "cell_type": "code",
      "execution_count": 4,
      "metadata": {
        "colab": {
          "base_uri": "https://localhost:8080/",
          "height": 465
        },
        "id": "LSsT2K7nHLxW",
        "outputId": "697bb54a-22ca-41a5-84c7-c7caa8a2986a"
      },
      "outputs": [
        {
          "output_type": "stream",
          "name": "stdout",
          "text": [
            "Numerical result:  1.3518518518518516\n",
            "Error: -1.851852e-02\n"
          ]
        },
        {
          "output_type": "display_data",
          "data": {
            "text/plain": [
              "<Figure size 640x480 with 1 Axes>"
            ],
            "image/png": "[encoded data removed]"
          },
          "metadata": {}
        }
      ],
      "source": [
        "# define the integrand\n",
        "fun = lambda x:1-x**2\n",
        "# define integral inteval\n",
        "a = -1; b = 1\n",
        "# define subdivition number\n",
        "N = 6\n",
        "# print the result\n",
        "result = rect_int(fun,a,b,N)\n",
        "print('Numerical result: ',result)\n",
        "print('Error: {:e}'.format(4/3-result))\n",
        "\n",
        "# plot the function and the mid points\n",
        "plt.figure()\n",
        "rect_int(fun,a,b,N,isfigure=True)\n",
        "plt.legend()\n",
        "plt.show()"
      ]
    },
    {
      "cell_type": "markdown",
      "source": [
        "Following rectangular rule, you can use ```np.cunsum``` function to estimate the integral form of a continuous time series. In geophysics, this is commonly used to convert particle velocity to particle displacement. Please note that after accumulation, the location of the x coordinates should be shifted by half of the grid size. This is sometimes ignored if the grid size is small enough."
      ],
      "metadata": {
        "id": "whwymCAy0ilX"
      }
    },
    {
      "cell_type": "code",
      "source": [
        "N = 20  # try different N and see how it impacts the accuracy.\n",
        "fun = lambda x:np.sin(x)\n",
        "x = np.linspace(0,2*np.pi,N)\n",
        "h = x[1]-x[0]\n",
        "\n",
        "analytical_solution = -np.cos(x)+1\n",
        "numerical_solution = np.cumsum(fun(x))*h\n",
        "\n",
        "plt.figure()\n",
        "plt.plot(x,analytical_solution,linewidth=2)\n",
        "plt.plot(x+h/2,numerical_solution,'x--')\n",
        "plt.show()"
      ],
      "metadata": {
        "colab": {
          "base_uri": "https://localhost:8080/",
          "height": 430
        },
        "id": "WXWVu2ZEzbUp",
        "outputId": "bada9962-5e1e-4e62-a5ff-31383746218c"
      },
      "execution_count": 5,
      "outputs": [
        {
          "output_type": "display_data",
          "data": {
            "text/plain": [
              "<Figure size 640x480 with 1 Axes>"
            ],
            "image/png": "[encoded data removed]"
          },
          "metadata": {}
        }
      ]
    },
    {
      "cell_type": "markdown",
      "metadata": {
        "id": "8rcJ29InHLxW"
      },
      "source": [
        "## Trapezoidal Rule\n",
        "The trapezoidal rule is generally more accurate. It can be obtained by takin ghte same subdivision as the rectangular rule, and approximate $f$ by a piece-wise linear intepolation. The area under the curve of $f$ between $a$ and $b$ is approximated by $n$ trapezoids of areas\n",
        "$$\n",
        "\\frac{1}{2}[f(a)+f(x_1)]h,\n",
        "\\frac{1}{2}[f(x_1)+f(x_2)]h,\n",
        "\\frac{1}{2}[f(x_2)+f(x_3)]h,\n",
        "...,\n",
        "\\frac{1}{2}[f(x_{n-1})+f(x_b)]h,\n",
        "$$\n",
        "By taking hte sum we obtain the **trapezoidal rule**:\n",
        "$$\n",
        "J = \\int_a^b f(x) dx \\approx\n",
        "h \\left[ \\frac{1}{2} f(a) + f(x_1) + f(x_2) + ... + f(x_{n-1})+\\frac{1}{2} f(b) \\right],\n",
        "$$\n",
        "where $h=(b-a)/n$. The $x_j$, $a$, and $b$ are called **nodes**.\n",
        "\n",
        "<center>\n",
        "<img src=\"https://github.com/jinwar/GeophysicsComputingColab/blob/dbbfe74fc4d9d110871a9687a8362ddff9c0fc45/figures/figure442.png?raw=1\n",
        "\" width=\"500\">\n",
        "</center>"
      ]
    },
    {
      "cell_type": "markdown",
      "metadata": {
        "id": "XGQbWMh5HLxW"
      },
      "source": [
        "### Error analysis for trapezoidal rule\n",
        "An error estimate for the trapezoidal rule can be derived from the error analysis of linear interpolation. For a single subinterval we have\n",
        "$$\n",
        "f(x)-p_i(x) = (x-x_i)(x-x_{i+1})\\frac{f''(t)}{2}\n",
        "$$\n",
        "with a suitable (unknown) $t$ between $x_i$ and $x_{i+1}$. Integration over $x$ from $x_i$ to $x_{i+1} = x_i +h$ gives\n",
        "$$\n",
        "\\int_{x_i}^{x_i+h} f(x) dx - \\frac{h}{2} [f(x_i)+f(x_i+h)] =\n",
        "\\int_{x_i}^{x_i+h} (x-x_i)(x-x_i-h)\\frac{f''(t)}{2} dx.\n",
        "$$\n",
        "Setting $x-x_i = v$, we found the right side equals\n",
        "$$\n",
        "\\int_0^h v(v-h) dv \\frac{f''(t)}{2} =\n",
        "\\left( \\frac{h^3}{3} - \\frac{h^3}{2}  \\right) \\frac{f''(t)}{2} =\n",
        "-\\frac{h^3}{12} f''(t).\n",
        "$$\n",
        "This is the error for the $i$th subinterval for the trapezoidal rule, often called the **local error**.\n",
        "\n",
        "The error of the trapezoidal rule is the sum of such contributions from the $n$ subintervals. Since $h=(b-a)/n$, we obtain\n",
        "$$\n",
        "\\epsilon = -\\frac{(b-a)^3}{12n^2} f''(\\hat{t}) = -\\frac{b-a}{12}h^2 f''(\\hat{t}).\n",
        "$$\n",
        "The trapezoidal rule is also written as:\n",
        "$$\n",
        "J = \\int_a^b f(x) dx \\approx\n",
        "h \\left[ \\frac{1}{2} f(a) + f(x_1) + f(x_2) + ... + f(x_{n-1})+\\frac{1}{2} f(b) \\right]\n",
        "-\\frac{b-a}{12}h^2 f''(\\hat{t}).\n",
        "$$"
      ]
    },
    {
      "cell_type": "code",
      "source": [
        "# define the function to perform trapezoidal integration\n",
        "def trapez_int(fun,a,b,N,isfigure=False):\n",
        "    ''' Function to perform trapezoidal integration.\n",
        "    usage: val = trapez_int(fun,a,b,N,isfigure=False)\n",
        "    input:\n",
        "        fun: function to be integrated\n",
        "        a,b: integral interval\n",
        "        N: number of subintervals\n",
        "        isfigure: plot the function and the nodes for demonstration\n",
        "    written by Ge Jin, gjin@mines.edu, 06/2019\n",
        "    '''\n",
        "    h = (b-a)/N # calculate subinterval length\n",
        "    xi = a+(np.arange(N+1))*h # calculate the location of nodes\n",
        "    yi = fun(xi) # evaluate node values\n",
        "    val = (np.sum(yi)-0.5*yi[0]-0.5*yi[-1])*h # calculate the result\n",
        "    if isfigure:\n",
        "        x = np.linspace(a,b,100)\n",
        "        y = fun(x)\n",
        "        plt.plot(x,y,label='Integrand')\n",
        "        plt.plot(xi,yi,'ro',label='Nodes')\n",
        "        plt.plot(xi,yi,'r-',label='Approx')\n",
        "    return val\n",
        "\n"
      ],
      "metadata": {
        "id": "X8sosMuFKyFI"
      },
      "execution_count": null,
      "outputs": []
    },
    {
      "cell_type": "code",
      "execution_count": null,
      "metadata": {
        "colab": {
          "base_uri": "https://localhost:8080/",
          "height": 482
        },
        "id": "SNApUqrHHLxW",
        "outputId": "e3c9f3b4-2195-4865-f8b0-f995e2d8d536"
      },
      "outputs": [
        {
          "output_type": "stream",
          "name": "stdout",
          "text": [
            "Numerical result:  1.2962962962962963\n",
            "Error: 3.703704e-02\n",
            "Predicted Error: 3.703704e-02\n"
          ]
        },
        {
          "output_type": "display_data",
          "data": {
            "text/plain": [
              "<Figure size 640x480 with 1 Axes>"
            ],
            "image/png": "[encoded data removed]"
          },
          "metadata": {}
        }
      ],
      "source": [
        "# define the integrand\n",
        "fun = lambda x:1-x**2\n",
        "# define integral inteval\n",
        "a = -1; b = 1\n",
        "# define subdivition number\n",
        "N = 6\n",
        "# print the result\n",
        "result = trapez_int(fun,a,b,N)\n",
        "print('Numerical result: ',result)\n",
        "print('Error: {:e}'.format(4/3-result))\n",
        "\n",
        "# in this case the error can be predicted, because f''(t) == -2\n",
        "h = (b-a)/N\n",
        "err = -(b-a)/12*h**2*(-2)\n",
        "print('Predicted Error: {:e}'.format(err))\n",
        "\n",
        "# plot the function and the mid points\n",
        "plt.figure()\n",
        "trapez_int(fun,a,b,N,isfigure=True)\n",
        "plt.legend()\n",
        "plt.show()"
      ]
    },
    {
      "cell_type": "markdown",
      "metadata": {
        "id": "CYTsQ3FVHLxX"
      },
      "source": [
        "## Simpson's Rule\n",
        "\n",
        "Rectangular rule and trapezoidal rule can be considered as piecewise zero-order (nearest) and first-order (linear) polynomial approximation of the integrand. **Simpson's Rule** utilizes the piecewise quadratic approximation, and is of great practical importance because it is sufficiently accurate for most problems, but still sufficiently simple.\n",
        "\n",
        "To derive Simpson's rule, we divide the interval of integration $a\\leq x \\leq b$ into an **even number** of equal subintervals, say, into $n=2m$ subintervals of length $h = (b-a)/(2m)$, with endpoints $x_0(=a), x_1, ...,x_{2m-1},x_{2m}(=b)$. We now take the first two subintervals and approximate $f(x)$ in the interval $x_0 \\leq x \\leq x_2 = x_0 +2h$ by the Lagrange polynomial $p_2(x)$ through $(x_0,f_0), (x_1,f_1), (x_2,f_2)$, where $f_j=f(x_j)$. From Interpolation section we have\n",
        "$$\n",
        "p_2(x) =\n",
        "\\frac{(x-x_1)(x-x_2)}{(x_0-x_1)(x_0-x_2)}f_0 +\n",
        "\\frac{(x-x_0)(x-x_2)}{(x_1-x_0)(x_1-x_2)}f_1 +\n",
        "\\frac{(x-x_0)(x-x_1)}{(x_2-x_0)(x_2-x_1)}f_2.\n",
        "$$\n",
        "With $x_1 = x_0 + h, x_2 = x_0 + 2h$, and setting $s = (x-x_1)/h$, we have\n",
        "$$\n",
        "p_2(x) =\n",
        "\\frac{1}{2} s(s-1) f_0 +\n",
        "(s+1)(s-1) f_1 +\n",
        "\\frac{1}{2}(s+1)s f_2\n",
        "$$\n",
        "Now integrate with respect to $x$ from $x_0$ to $x_2$, which corresponds to integrating with respect to $s$ from -1 to 1, we have\n",
        "$$\n",
        "\\int_{x_0}^{x_2} p_2(x)dx =\n",
        "f_0 \\int_{-1}^{1} \\frac{1}{2} s(s-1) hds +\n",
        "f_1 \\int_{-1}^{1} (s+1)(s-1) hds +\n",
        "f_2 \\int_{-1}^{1}  \\frac{1}{2}(s+1)s hds \\\\\n",
        "$$\n",
        "The result is\n",
        "$$\n",
        "\\int_{x_0}^{x_1} f(x) dx \\approx\n",
        "\\int_{x_0}^{x_1} p_2(x) dx =\n",
        "h\\left(\n",
        "\\frac{1}{3}f_0 +\n",
        "\\frac{4}{3}f_1 +\n",
        "\\frac{1}{3}f_2 \\right)\n",
        "$$\n",
        "A similar formula holds for the next two subintervals from $x_2$ to $x_4$, and so on. By summing all these $m$ for formulas we obtain **Simpson's rule**\n",
        "$$\n",
        "\\int_a^b f(x) dx \\approx\n",
        "\\frac{h}{3} ( f_0 + 4f_1 + 2f_2 + 4f_3 + ... + 2f_{2m-2} + 4f_{2m-1} + f_{2m})\n",
        "$$\n",
        "\n",
        "<center>\n",
        "<img src=\"https://github.com/jinwar/GeophysicsComputingColab/blob/dbbfe74fc4d9d110871a9687a8362ddff9c0fc45/figures/figure443.png?raw=1\n",
        "\" width=\"500\">\n",
        "</center>"
      ]
    },
    {
      "cell_type": "markdown",
      "metadata": {
        "id": "eBkDInFVHLxX"
      },
      "source": [
        "### Error of Simpson's Rule\n",
        "If the fourth derivative $f^{(4)}$ exists and is continuous on $a \\leq x \\leq b$, the error of Simpson's Rule is\n",
        "$$\n",
        "\\epsilon_s = -\\frac{(b-a)^5}{180(2m)^4} f^{(4)}(\\hat t)\n",
        "= -\\frac{b-a}{180} h^4 f^{(4)}(\\hat t),\n",
        "$$\n",
        "where $\\hat t$ is a suitable unknown value between $a$ and $b$. With this we may also write Simpson's rule as\n",
        "$$\n",
        "\\int_a^b f(x) dx \\approx\n",
        "\\frac{h}{3} ( f_0 + 4f_1 + 2f_2 + 4f_3 + ... + 2f_{2m-2} + 4f_{2m-1} + f_{2m})\n",
        " -\\frac{b-a}{180} h^4 f^{(4)}(\\hat t),\n",
        "$$\n",
        "The proof of Simpson's Rule error estimate can be found [here](https://www.math.ucla.edu/~yanovsky/Teaching/Math151A/hw6/Numerical_Integration.pdf)."
      ]
    },
    {
      "cell_type": "markdown",
      "metadata": {
        "id": "hL_AmamMHLxX"
      },
      "source": [
        "### Degree of Precision\n",
        "Degree of precision (DP) of an integration formula is determined by the maximum degree of arbitrary polynomials for which the formula gives exact values of integrals over any intervals.\n",
        "For the rectangular rule and trapezoidal rule,\n",
        "$$ DP=1 $$\n",
        "For Simpson's rule, from error analysis, we can get\n",
        "$$ DP=3 $$\n",
        "because $f^{(4)}$ is identically zero for a cubic polynomial. This makes Simpson's rule sufficiently accurate for most practical problems and accounts for its popularity."
      ]
    },
    {
      "cell_type": "markdown",
      "metadata": {
        "id": "plzindVlHLxX"
      },
      "source": [
        "### Numeric Stability\n",
        "Numeric stability with respect to rounding is another important property to evaluate numeric algorithms. For the sum of the roundoff errors $\\epsilon_j$ of the $2m+1$ values $f_j$ we obtain, since $h = (b-a)/2m$,\n",
        "$$\n",
        "\\frac{h}{3} ( \\epsilon_0 + 4\\epsilon_1 + 2\\epsilon_2 + 4\\epsilon_3 + ... + 2\\epsilon_{2m-2} + 4\\epsilon_{2m-1} + \\epsilon_{2m})\n",
        "\\leq \\frac{1}{3} \\frac{b-a}{2m} 6mu\n",
        "= (b-a)u\n",
        "$$\n",
        "where $u$ is the rounding unit ($u=0.5\\times 10^{-6}$ if we round off to 6D). $6m$ is the summation of the coefficients of $f_j$. The error bound $(b-a)u$ is independent of $m$, so that it cannot increase with increasing $m$. This proves stability."
      ]
    },
    {
      "cell_type": "markdown",
      "metadata": {
        "id": "FR_k6XpJHLxX"
      },
      "source": [
        "### Newton-Cotes Formulas\n",
        "The rectangular, trapezoidal and Simpson's rules are all special **Newton-Cotes formulas**,that is, integration formulas in which $f(x)$ is interpolated at **equally spaced** nodes by a polynomial degree $n$ ($n=0$ for rectangular, $n=1$ for trapezoidal, $n=2$ for Simpson).\n",
        "$n=3$ and higher are used occasionally. From $n=8$ on, some of the coefficients become negative, so that a positive $f_j$ could make a negative contribution to an integral, which is absurd."
      ]
    },
    {
      "cell_type": "code",
      "source": [
        "# define the function to perform Simpson's integration\n",
        "def simpson_int(fun,a,b,N,isfigure=False):\n",
        "    ''' Function to perform integration using Simpson's Rule.\n",
        "    usage: val = simpson_int(fun,a,b,N,isfigure=False)\n",
        "    input:\n",
        "        fun: function to be integrated\n",
        "        a,b: integral interval\n",
        "        N: number of subintervals\n",
        "        isfigure: plot the function and the nodes for demonstration\n",
        "    written by Ge Jin, gjin@mines.edu, 06/2019\n",
        "    '''\n",
        "    N = N//2*2 # make sure N is a even number\n",
        "    h = (b-a)/N # calculate subinterval length\n",
        "    xi = a+(np.arange(N+1))*h # calculate the location of nodes\n",
        "    yi = fun(xi) # evaluate node values\n",
        "    s0 = yi[0]+yi[-1] # first and last nodes\n",
        "    s1 = np.sum(yi[1:-1:2]) # odd number nodes\n",
        "    s2 = np.sum(yi[2:-2:2]) # even number nodes\n",
        "    val = h/3*(s0+4*s1+2*s2) # calculate the result\n",
        "    if isfigure:\n",
        "        x = np.linspace(a,b,100)\n",
        "        y = fun(x)\n",
        "        plt.plot(x,y,label='Integrand')\n",
        "        plt.plot(xi,yi,'ro',label='Nodes')\n",
        "        # plot Lagrange polynomial\n",
        "        for i in range(N//2):\n",
        "            x1 = xi[2*i+1]\n",
        "            f = lambda s: 0.5*s*(s-1)*yi[2*i] - (s-1)*(s+1)*yi[2*i+1] + 0.5*(s+1)*s*yi[2*i+2]\n",
        "            ind = (x>=xi[2*i])&(x<=xi[2*i+2])\n",
        "            p = f((x[ind]-x1)/h)\n",
        "            ax, = plt.plot(x[ind],p,'r')\n",
        "        ax.set_label('Approx')\n",
        "    return val\n",
        "\n",
        "\n"
      ],
      "metadata": {
        "id": "pfa7PpnfK91N"
      },
      "execution_count": null,
      "outputs": []
    },
    {
      "cell_type": "code",
      "execution_count": null,
      "metadata": {
        "colab": {
          "base_uri": "https://localhost:8080/",
          "height": 465
        },
        "id": "XgNI1QTLHLxX",
        "outputId": "e15dfc47-7c12-4dbc-e768-7dbb724d1901"
      },
      "outputs": [
        {
          "output_type": "stream",
          "name": "stdout",
          "text": [
            "Numerical result:  1.3333333333333333\n",
            "Error: 0.000000e+00\n"
          ]
        },
        {
          "output_type": "display_data",
          "data": {
            "text/plain": [
              "<Figure size 640x480 with 1 Axes>"
            ],
            "image/png": "[encoded data removed]"
          },
          "metadata": {}
        }
      ],
      "source": [
        "# define the integrand\n",
        "fun = lambda x:1-x**2\n",
        "# define integral inteval\n",
        "a = -1; b = 1\n",
        "# define subdivition number\n",
        "N = 6\n",
        "# print the result\n",
        "result = simpson_int(fun,a,b,N)\n",
        "print('Numerical result: ',result)\n",
        "print('Error: {:e}'.format(4/3-result))\n",
        "\n",
        "# plot the function and the mid points\n",
        "plt.figure()\n",
        "simpson_int(fun,a,b,N,isfigure=True)\n",
        "plt.legend()\n",
        "plt.show()"
      ]
    },
    {
      "cell_type": "markdown",
      "metadata": {
        "id": "qUyj47waHLxY"
      },
      "source": [
        "## Gauss Integration Formulas\n",
        "\n"
      ]
    },
    {
      "cell_type": "markdown",
      "metadata": {
        "id": "h0RNxLG_HLxY"
      },
      "source": [
        "All Newton-Cotes type of integrations can be written in a form of\n",
        "$$\n",
        "\\int_a^b f(x)dx \\approx \\sum_{j=1}^{n} A_j f(x_j),\n",
        "$$\n",
        "where $f_j$ is the value of integrand at an evenly spaced grid $x_0,x_1,..x_n$. However, we can get much more accurate integration formulas if we allow $x_j$ to be arbitrarily located.\n",
        "With a fixed $n$, because we can freely determine the location of nodes $x_j$ and the weights $A_j$, there are $n+n=2n$ degrees of freedom. Theoretically, the coefficients of a polynomial of degree $2n-1$ can be uniquely determined.\n",
        "\n",
        "Gauss has shown that exactness for polynomials of degree not exceeding $2n-1$ (instead of $n-1$ for predetermined nodes) can be attained. For a problem like\n",
        "$$\n",
        "\\int_{-1}^{1} f(t) dt \\approx \\sum_{j=1}^{n} A_j f(t_j),\n",
        "$$\n",
        "he as given the location of the location of the $t_j$ and the coefficients $A_j$ which depend on $n$ but not on $f(t)$. The actual process to derive $t_j$ and $A_j$ is fairly complex and is not covered by this class, but can be found [here](https://en.wikipedia.org/wiki/Gaussian_quadrature#Fundamental_theorem)."
      ]
    },
    {
      "cell_type": "markdown",
      "metadata": {
        "id": "CF3THOq9HLxY"
      },
      "source": [
        "To calculate the numeric integral of $f$ of an arbitrary interval between $a$ and $b$, we can simply set\n",
        "$$x = \\frac{b-a}{2}t+\\frac{a+b}{2}$$\n",
        "so that\n",
        "$$\n",
        "\\int_a^b f(x) dx  = \\int_{-1}^1 f\\left(\\frac{b-a}{2}t+\\frac{a+b}{2}\\right) \\frac{b-a}{2} dt\n",
        "\\approx \\frac{b-a}{2} \\sum_{i=1}^{n} A_i f\\left(\\frac{b-a}{2}t_i+\\frac{a+b}{2}\\right)\n",
        "$$\n",
        "\n",
        "Here is a table of $t_j$ and $A_j$ for the first few $n$ and the python package to obtain them."
      ]
    },
    {
      "cell_type": "code",
      "execution_count": null,
      "metadata": {
        "colab": {
          "base_uri": "https://localhost:8080/",
          "height": 519
        },
        "id": "q2lxEeJRHLxY",
        "outputId": "778a2359-bff4-41d7-8dc3-a78114595038"
      },
      "outputs": [
        {
          "output_type": "execute_result",
          "data": {
            "text/plain": [
              "                           Nodes $t_j$  Coefficients $A_j$\n",
              "$n$ Degree of Precision                                   \n",
              "2   3                        -0.577350            1.000000\n",
              "                              0.577350            1.000000\n",
              "3   5                        -0.774597            0.555556\n",
              "                              0.000000            0.888889\n",
              "                              0.774597            0.555556\n",
              "4   7                        -0.861136            0.347855\n",
              "                             -0.339981            0.652145\n",
              "                              0.339981            0.652145\n",
              "                              0.861136            0.347855\n",
              "5   9                        -0.906180            0.236927\n",
              "                             -0.538469            0.478629\n",
              "                              0.000000            0.568889\n",
              "                              0.538469            0.478629\n",
              "                              0.906180            0.236927"
            ],
            "text/html": [
              "\n",
              "\n",
              "  <div id=\"df-f4d4e448-5047-404e-bea4-8e797c107743\">\n",
              "    <div class=\"colab-df-container\">\n",
              "      <div>\n",
              "<style scoped>\n",
              "    .dataframe tbody tr th:only-of-type {\n",
              "        vertical-align: middle;\n",
              "    }\n",
              "\n",
              "    .dataframe tbody tr th {\n",
              "        vertical-align: top;\n",
              "    }\n",
              "\n",
              "    .dataframe thead th {\n",
              "        text-align: right;\n",
              "    }\n",
              "</style>\n",
              "<table border=\"1\" class=\"dataframe\">\n",
              "  <thead>\n",
              "    <tr style=\"text-align: right;\">\n",
              "      <th></th>\n",
              "      <th></th>\n",
              "      <th></th>\n",
              "      <th>Nodes $t_j$</th>\n",
              "      <th>Coefficients $A_j$</th>\n",
              "    </tr>\n",
              "    <tr>\n",
              "      <th>$n$</th>\n",
              "      <th>Degree of Precision</th>\n",
              "      <th></th>\n",
              "      <th></th>\n",
              "      <th></th>\n",
              "    </tr>\n",
              "  </thead>\n",
              "  <tbody>\n",
              "    <tr>\n",
              "      <th rowspan=\"2\" valign=\"top\">2</th>\n",
              "      <th rowspan=\"2\" valign=\"top\">3</th>\n",
              "      <th></th>\n",
              "      <td>-0.577350</td>\n",
              "      <td>1.000000</td>\n",
              "    </tr>\n",
              "    <tr>\n",
              "      <th></th>\n",
              "      <td>0.577350</td>\n",
              "      <td>1.000000</td>\n",
              "    </tr>\n",
              "    <tr>\n",
              "      <th rowspan=\"3\" valign=\"top\">3</th>\n",
              "      <th rowspan=\"3\" valign=\"top\">5</th>\n",
              "      <th></th>\n",
              "      <td>-0.774597</td>\n",
              "      <td>0.555556</td>\n",
              "    </tr>\n",
              "    <tr>\n",
              "      <th></th>\n",
              "      <td>0.000000</td>\n",
              "      <td>0.888889</td>\n",
              "    </tr>\n",
              "    <tr>\n",
              "      <th></th>\n",
              "      <td>0.774597</td>\n",
              "      <td>0.555556</td>\n",
              "    </tr>\n",
              "    <tr>\n",
              "      <th rowspan=\"4\" valign=\"top\">4</th>\n",
              "      <th rowspan=\"4\" valign=\"top\">7</th>\n",
              "      <th></th>\n",
              "      <td>-0.861136</td>\n",
              "      <td>0.347855</td>\n",
              "    </tr>\n",
              "    <tr>\n",
              "      <th></th>\n",
              "      <td>-0.339981</td>\n",
              "      <td>0.652145</td>\n",
              "    </tr>\n",
              "    <tr>\n",
              "      <th></th>\n",
              "      <td>0.339981</td>\n",
              "      <td>0.652145</td>\n",
              "    </tr>\n",
              "    <tr>\n",
              "      <th></th>\n",
              "      <td>0.861136</td>\n",
              "      <td>0.347855</td>\n",
              "    </tr>\n",
              "    <tr>\n",
              "      <th rowspan=\"5\" valign=\"top\">5</th>\n",
              "      <th rowspan=\"5\" valign=\"top\">9</th>\n",
              "      <th></th>\n",
              "      <td>-0.906180</td>\n",
              "      <td>0.236927</td>\n",
              "    </tr>\n",
              "    <tr>\n",
              "      <th></th>\n",
              "      <td>-0.538469</td>\n",
              "      <td>0.478629</td>\n",
              "    </tr>\n",
              "    <tr>\n",
              "      <th></th>\n",
              "      <td>0.000000</td>\n",
              "      <td>0.568889</td>\n",
              "    </tr>\n",
              "    <tr>\n",
              "      <th></th>\n",
              "      <td>0.538469</td>\n",
              "      <td>0.478629</td>\n",
              "    </tr>\n",
              "    <tr>\n",
              "      <th></th>\n",
              "      <td>0.906180</td>\n",
              "      <td>0.236927</td>\n",
              "    </tr>\n",
              "  </tbody>\n",
              "</table>\n",
              "</div>\n",
              "      <button class=\"colab-df-convert\" onclick=\"convertToInteractive('df-f4d4e448-5047-404e-bea4-8e797c107743')\"\n",
              "              title=\"Convert this dataframe to an interactive table.\"\n",
              "              style=\"display:none;\">\n",
              "\n",
              "  <svg xmlns=\"http://www.w3.org/2000/svg\" height=\"24px\"viewBox=\"0 0 24 24\"\n",
              "       width=\"24px\">\n",
              "    <path d=\"M0 0h24v24H0V0z\" fill=\"none\"/>\n",
              "    <path d=\"M18.56 5.44l.94 2.06.94-2.06 2.06-.94-2.06-.94-.94-2.06-.94 2.06-2.06.94zm-11 1L8.5 8.5l.94-2.06 2.06-.94-2.06-.94L8.5 2.5l-.94 2.06-2.06.94zm10 10l.94 2.06.94-2.06 2.06-.94-2.06-.94-.94-2.06-.94 2.06-2.06.94z\"/><path d=\"M17.41 7.96l-1.37-1.37c-.4-.4-.92-.59-1.43-.59-.52 0-1.04.2-1.43.59L10.3 9.45l-7.72 7.72c-.78.78-.78 2.05 0 2.83L4 21.41c.39.39.9.59 1.41.59.51 0 1.02-.2 1.41-.59l7.78-7.78 2.81-2.81c.8-.78.8-2.07 0-2.86zM5.41 20L4 18.59l7.72-7.72 1.47 1.35L5.41 20z\"/>\n",
              "  </svg>\n",
              "      </button>\n",
              "\n",
              "\n",
              "\n",
              "    <div id=\"df-0e8684ec-83d7-4c8a-baf1-9512ad5b5e4f\">\n",
              "      <button class=\"colab-df-quickchart\" onclick=\"quickchart('df-0e8684ec-83d7-4c8a-baf1-9512ad5b5e4f')\"\n",
              "              title=\"Suggest charts.\"\n",
              "              style=\"display:none;\">\n",
              "\n",
              "<svg xmlns=\"http://www.w3.org/2000/svg\" height=\"24px\"viewBox=\"0 0 24 24\"\n",
              "     width=\"24px\">\n",
              "    <g>\n",
              "        <path d=\"M19 3H5c-1.1 0-2 .9-2 2v14c0 1.1.9 2 2 2h14c1.1 0 2-.9 2-2V5c0-1.1-.9-2-2-2zM9 17H7v-7h2v7zm4 0h-2V7h2v10zm4 0h-2v-4h2v4z\"/>\n",
              "    </g>\n",
              "</svg>\n",
              "      </button>\n",
              "    </div>\n",
              "\n",
              "<style>\n",
              "  .colab-df-quickchart {\n",
              "    background-color: #E8F0FE;\n",
              "    border: none;\n",
              "    border-radius: 50%;\n",
              "    cursor: pointer;\n",
              "    display: none;\n",
              "    fill: #1967D2;\n",
              "    height: 32px;\n",
              "    padding: 0 0 0 0;\n",
              "    width: 32px;\n",
              "  }\n",
              "\n",
              "  .colab-df-quickchart:hover {\n",
              "    background-color: #E2EBFA;\n",
              "    box-shadow: 0px 1px 2px rgba(60, 64, 67, 0.3), 0px 1px 3px 1px rgba(60, 64, 67, 0.15);\n",
              "    fill: #174EA6;\n",
              "  }\n",
              "\n",
              "  [theme=dark] .colab-df-quickchart {\n",
              "    background-color: #3B4455;\n",
              "    fill: #D2E3FC;\n",
              "  }\n",
              "\n",
              "  [theme=dark] .colab-df-quickchart:hover {\n",
              "    background-color: #434B5C;\n",
              "    box-shadow: 0px 1px 3px 1px rgba(0, 0, 0, 0.15);\n",
              "    filter: drop-shadow(0px 1px 2px rgba(0, 0, 0, 0.3));\n",
              "    fill: #FFFFFF;\n",
              "  }\n",
              "</style>\n",
              "\n",
              "    <script>\n",
              "      async function quickchart(key) {\n",
              "        const containerElement = document.querySelector('#' + key);\n",
              "        const charts = await google.colab.kernel.invokeFunction(\n",
              "            'suggestCharts', [key], {});\n",
              "      }\n",
              "    </script>\n",
              "\n",
              "      <script>\n",
              "\n",
              "function displayQuickchartButton(domScope) {\n",
              "  let quickchartButtonEl =\n",
              "    domScope.querySelector('#df-0e8684ec-83d7-4c8a-baf1-9512ad5b5e4f button.colab-df-quickchart');\n",
              "  quickchartButtonEl.style.display =\n",
              "    google.colab.kernel.accessAllowed ? 'block' : 'none';\n",
              "}\n",
              "\n",
              "        displayQuickchartButton(document);\n",
              "      </script>\n",
              "      <style>\n",
              "    .colab-df-container {\n",
              "      display:flex;\n",
              "      flex-wrap:wrap;\n",
              "      gap: 12px;\n",
              "    }\n",
              "\n",
              "    .colab-df-convert {\n",
              "      background-color: #E8F0FE;\n",
              "      border: none;\n",
              "      border-radius: 50%;\n",
              "      cursor: pointer;\n",
              "      display: none;\n",
              "      fill: #1967D2;\n",
              "      height: 32px;\n",
              "      padding: 0 0 0 0;\n",
              "      width: 32px;\n",
              "    }\n",
              "\n",
              "    .colab-df-convert:hover {\n",
              "      background-color: #E2EBFA;\n",
              "      box-shadow: 0px 1px 2px rgba(60, 64, 67, 0.3), 0px 1px 3px 1px rgba(60, 64, 67, 0.15);\n",
              "      fill: #174EA6;\n",
              "    }\n",
              "\n",
              "    [theme=dark] .colab-df-convert {\n",
              "      background-color: #3B4455;\n",
              "      fill: #D2E3FC;\n",
              "    }\n",
              "\n",
              "    [theme=dark] .colab-df-convert:hover {\n",
              "      background-color: #434B5C;\n",
              "      box-shadow: 0px 1px 3px 1px rgba(0, 0, 0, 0.15);\n",
              "      filter: drop-shadow(0px 1px 2px rgba(0, 0, 0, 0.3));\n",
              "      fill: #FFFFFF;\n",
              "    }\n",
              "  </style>\n",
              "\n",
              "      <script>\n",
              "        const buttonEl =\n",
              "          document.querySelector('#df-f4d4e448-5047-404e-bea4-8e797c107743 button.colab-df-convert');\n",
              "        buttonEl.style.display =\n",
              "          google.colab.kernel.accessAllowed ? 'block' : 'none';\n",
              "\n",
              "        async function convertToInteractive(key) {\n",
              "          const element = document.querySelector('#df-f4d4e448-5047-404e-bea4-8e797c107743');\n",
              "          const dataTable =\n",
              "            await google.colab.kernel.invokeFunction('convertToInteractive',\n",
              "                                                     [key], {});\n",
              "          if (!dataTable) return;\n",
              "\n",
              "          const docLinkHtml = 'Like what you see? Visit the ' +\n",
              "            '<a target=\"_blank\" href=https://colab.research.google.com/notebooks/data_table.ipynb>data table notebook</a>'\n",
              "            + ' to learn more about interactive tables.';\n",
              "          element.innerHTML = '';\n",
              "          dataTable['output_type'] = 'display_data';\n",
              "          await google.colab.output.renderOutput(dataTable, element);\n",
              "          const docLink = document.createElement('div');\n",
              "          docLink.innerHTML = docLinkHtml;\n",
              "          element.appendChild(docLink);\n",
              "        }\n",
              "      </script>\n",
              "    </div>\n",
              "  </div>\n"
            ]
          },
          "metadata": {},
          "execution_count": 8
        }
      ],
      "source": [
        "df = pd.DataFrame()\n",
        "row_i = 0\n",
        "for n in range(2,6):\n",
        "    # numpy package to calculate gauss nodes and coefficient\n",
        "    t, A = np.polynomial.legendre.leggauss(n)\n",
        "    for i in range(n):\n",
        "        df.loc[row_i,'$n$'] = n\n",
        "        df.loc[row_i,'Nodes $t_j$'] = t[i]\n",
        "        df.loc[row_i,'Coefficients $A_j$'] = A[i]\n",
        "        df.loc[row_i,' '] = ' '\n",
        "        df.loc[row_i,'Degree of Precision'] = 2*n-1\n",
        "        row_i += 1\n",
        "\n",
        "df['$n$'] = df['$n$'].astype('int')\n",
        "df['Degree of Precision'] = df['Degree of Precision'].astype('int')\n",
        "df.set_index(['$n$','Degree of Precision',' '])"
      ]
    },
    {
      "cell_type": "code",
      "source": [
        "# define the function to perform Gauss quadrature\n",
        "def gauss_int(fun,a,b,N,isfigure=False):\n",
        "    ''' Function to perform Gauss quadrature\n",
        "    usage: val = gauss_int(fun,a,b,N,isfigure=False)\n",
        "    input:\n",
        "        fun: function to be integrated\n",
        "        a,b: integral interval\n",
        "        N: number of subintervals\n",
        "        isfigure: plot the function and the nodes for demonstration\n",
        "    written by Ge Jin, gjin@mines.edu, 06/2019\n",
        "    '''\n",
        "    t, A = np.polynomial.legendre.leggauss(N)\n",
        "    xi = (b-a)/2*t+(a+b)/2   # calculate the location of nodes\n",
        "    yi = fun(xi) # evaluate node values\n",
        "    val = (b-a)/2*np.sum(A*yi)\n",
        "    if isfigure:\n",
        "        x = np.linspace(a,b,100)\n",
        "        y = fun(x)\n",
        "        ax = []\n",
        "        ax += plt.plot(x,y,label='Integrand')\n",
        "        ax += plt.plot(xi,yi,'ro',label='Gauss Nodes')\n",
        "        plt.sca(plt.gca().twinx())\n",
        "        ax += plt.bar(xi,A,width=0.1,alpha=0.5,color='r')\n",
        "        labs = [l.get_label() for l in ax]\n",
        "        labs[2] = 'Gauss Weights'\n",
        "        plt.legend(ax[:3],labs[:3])\n",
        "        plt.ylim([0,1])\n",
        "    return val\n"
      ],
      "metadata": {
        "id": "Siw5BRCJLFfp"
      },
      "execution_count": null,
      "outputs": []
    },
    {
      "cell_type": "code",
      "execution_count": null,
      "metadata": {
        "colab": {
          "base_uri": "https://localhost:8080/",
          "height": 470
        },
        "id": "Rnpnox__HLxY",
        "outputId": "81d41e6f-9314-444a-d63a-b93351b58be2"
      },
      "outputs": [
        {
          "output_type": "stream",
          "name": "stdout",
          "text": [
            "Numerical result:  1.3333333333333341\n",
            "Error: -8.881784e-16\n"
          ]
        },
        {
          "output_type": "display_data",
          "data": {
            "text/plain": [
              "<Figure size 640x480 with 2 Axes>"
            ],
            "image/png": "[encoded data removed]"
          },
          "metadata": {}
        }
      ],
      "source": [
        "# define the integrand\n",
        "fun = lambda x:1-x**2\n",
        "# define integral inteval\n",
        "a = -1; b = 1\n",
        "# define subdivition number\n",
        "N = 6\n",
        "# print the result\n",
        "result = gauss_int(fun,a,b,N)\n",
        "print('Numerical result: ',result)\n",
        "print('Error: {:e}'.format(4/3-result))\n",
        "\n",
        "# plot the function and the mid points\n",
        "plt.figure()\n",
        "gauss_int(fun,a,b,N,isfigure=True)\n",
        "plt.show()"
      ]
    },
    {
      "cell_type": "markdown",
      "metadata": {
        "id": "UIwMdEx6HLxY"
      },
      "source": [
        "### [Trapezoidal Rule in 2D](https://www.kth.se/social/upload/52a04c17f27654620e188bb0/Ant-Integration.pdf)\n",
        "We consider double integrals\n",
        "$$ I = \\iint_\\Omega f(x,y) dx dy $$\n",
        "where $\\Omega$ is a domain between two function graphs\n",
        "$$\n",
        "\\Omega = \\{(x,y) \\in \\mathbb{R}^2 : a \\leq x \\leq b, r(x) \\leq y \\leq s(x) \\}\n",
        "$$\n",
        "In these cases the integral can be written in iterated form as\n",
        "$$\n",
        "I = \\int_a^b \\left(\n",
        "\\int_{r(x)}^{s(x)} f(x,y) dy \\right) dx\n",
        "=\\int_a^b F(x) dx\n",
        "$$\n",
        "Numerically we can then do the same thing. The inner integral is approximated by a one-dimensional quadrature rule where $x$ is held fixed. The values obtained are then used to approximate the outer integral, also by a one-dimensional rule.\n",
        "$$\n",
        "I \\approx h \\left(\n",
        "\\frac{1}{2} F(x_0) + F(x_1) + ... + F(x_{n-1}) + \\frac{1}{2} F(x_n)\n",
        "\\right)\n",
        "$$\n",
        "where $x_j = a+jh$ and $h = (b-a)/n$. In order to computer $F(x_j)$ we approximate again,\n",
        "$$\n",
        "F(x_j) = \\int_{r(x_j)}^{s(x_j)} f(x_j,y)dy \\approx h_j\n",
        "\\left(\n",
        "\\frac{1}{2} f(x_j,y_{j,0}) + f(x_j,y_{j,1}) + ... + f(x_j,y_{j,n-1}) + \\frac{1}{2} f(x_j,y_{j,n})\n",
        "\\right),\n",
        "$$\n",
        "where\n",
        "$$ y_{j,k} = r(x_j) + kh_j, \\ \\ \\  h_j = \\frac{s(x_j)-r(x_j)}{n_j} $$\n",
        "Note that in general the number of points in the $y$-direction, $n_j$, is different for different $x_j$. The choice of $n_j$ is usually taken such that $h\\approx h_j$ for all $j$.\n",
        "\n",
        "The total formula becomes\n",
        "$$\n",
        "I \\approx \\sum_{j=0}^{n} \\sum_{k=0}{n_j} w_{j,k} f(x_j,y_{j,k}) h h_j,\n",
        "$$\n",
        "where $w_{j,k}$ is 1 for points in the interior (open circles), $1/2$ along the outer edges (filled circles) and $1/4$ in the corner points (filled squares).\n",
        "\n",
        "<center>\n",
        "<img src=\"https://github.com/jinwar/GeophysicsComputingColab/blob/main/figures/2D_Trapezoidal.png?raw=1\n",
        "\" width=\"500\">\n",
        "</center>"
      ]
    },
    {
      "cell_type": "markdown",
      "metadata": {
        "id": "MhX_hFXeHLxY"
      },
      "source": [
        "### 2D Gaussian Quadrature\n",
        "\n",
        "We can easily extend the formulas of 1D Gaussian quadrature into 2D by:\n",
        "$$\n",
        "\\int_{-1}^1 \\int_{-1}^1 f(\\xi,\\eta) d\\xi d\\eta\n",
        "\\approx \\int_{-1}^1 \\sum_{i=1}^{N} w_i f(\\xi_i,\\eta) d\\eta\n",
        "\\approx \\sum_{j=1}^M \\sum_{i=1}^{N} w_i \\hat w_j f(\\xi_i,\\eta_j)\n",
        "$$\n",
        "where $w_i$ and $\\xi_i$ are the weights and nodes of Gaussian Quadrature of order N in $\\xi$ direction, and $\\hat w_i$ and $\\eta_i$ are the weights and nodes of Gaussian Quadrature of order M in $\\eta$ direction. If $M==N$, the formula can be simplied as\n",
        "$$\n",
        "\\int_{-1}^1 \\int_{-1}^1 f(\\xi,\\eta) d\\xi d\\eta\n",
        "\\approx \\sum_{j=1}^M \\sum_{i=1}^{N} w_i w_j f(\\xi_i,\\xi_j)\n",
        "$$"
      ]
    },
    {
      "cell_type": "markdown",
      "metadata": {
        "id": "b8Ma9KJqHLxY"
      },
      "source": [
        "<center>\n",
        "<img src=\"https://github.com/jinwar/GeophysicsComputingColab/blob/main/figures/2Dlinearmapping.png?raw=1\n",
        "\" width=\"500\">\n",
        "</center>\n",
        "\n",
        "\n",
        "We can then generalize this integral of a unit square to any quadrilateral shapes by conduction a linear mapping.\n",
        "The mapping can be achieved by\n",
        "$$\n",
        "x = P(\\xi,\\eta) = \\sum_{i=1}^4 x_i N_i(\\xi,\\eta) \\\\\n",
        "y = P(\\xi,\\eta) = \\sum_{i=1}^4 x_i N_i(\\xi,\\eta)\n",
        "$$\n",
        "where $N_i$ are nodal shape functions for quadrilaterals:\n",
        "$$\n",
        "N_1(\\xi, \\eta) = \\frac{1}{4} (1-\\xi)(1-\\eta), \\\\\n",
        "N_2(\\xi, \\eta) = \\frac{1}{4} (1+\\xi)(1-\\eta), \\\\\n",
        "N_3(\\xi, \\eta) = \\frac{1}{4} (1+\\xi)(1+\\eta), \\\\\n",
        "N_4(\\xi, \\eta) = \\frac{1}{4} (1-\\xi)(1+\\eta).\n",
        "$$\n",
        "Note $N_i(\\xi,\\eta)=1$ at Node $i$th, 0 at other nodes."
      ]
    },
    {
      "cell_type": "markdown",
      "metadata": {
        "id": "AENu39kmHLxY"
      },
      "source": [
        "Then we have\n",
        "$$\n",
        "\\iint_K f(x,y)dx dy \\approx\n",
        "\\sum_{i=1}^{N} \\sum_{j=1}^{N} w_i w_j f\\left(P(\\xi_i,\\xi_j),Q(\\xi_i,\\xi_j)\\right) |J(\\xi_i,\\xi_j)|,\n",
        "$$\n",
        "where $J(\\xi,\\eta)$ is the Jacobi matrix\n",
        "$$\n",
        "J(\\xi,\\eta) = \\left| \\frac{\\partial(x,y)}{\\partial(\\xi,\\eta)} \\right|\n",
        "= \\left|\n",
        "\\begin{matrix}\n",
        "\\frac{\\partial x}{\\partial \\xi} & \\frac{\\partial y}{\\partial \\xi} \\\\\n",
        "\\frac{\\partial x}{\\partial \\eta} & \\frac{\\partial y}{\\partial \\eta}\n",
        "\\end{matrix}\n",
        "\\right|.\n",
        "$$"
      ]
    },
    {
      "cell_type": "markdown",
      "metadata": {
        "id": "1swzOoKKHLxZ"
      },
      "source": [
        "## Python package to perform numeric integration\n",
        "[Scipy](https://docs.scipy.org/doc/scipy/reference/) has a nice selection of [functions](https://docs.scipy.org/doc/scipy/reference/tutorial/integrate.html) to perform numeric integration with high precision and efficiency.\n",
        "Here I show two examples."
      ]
    },
    {
      "cell_type": "code",
      "execution_count": null,
      "metadata": {
        "colab": {
          "base_uri": "https://localhost:8080/"
        },
        "id": "aIZZf6YuHLxZ",
        "outputId": "9eb54549-cfe5-4d96-a9c2-f983a770f672"
      },
      "outputs": [
        {
          "output_type": "execute_result",
          "data": {
            "text/plain": [
              "(1.3333333333333335, 1.4802973661668755e-14)"
            ]
          },
          "metadata": {},
          "execution_count": 11
        }
      ],
      "source": [
        "# if you know the function form\n",
        "from scipy.integrate import quad\n",
        "fun = lambda x:1-x**2\n",
        "# define integral inteval\n",
        "a = -1; b = 1\n",
        "quad(fun,a,b)"
      ]
    },
    {
      "cell_type": "code",
      "execution_count": null,
      "metadata": {
        "colab": {
          "base_uri": "https://localhost:8080/"
        },
        "id": "VNKeILskHLxZ",
        "outputId": "ed70a115-b625-4d4f-eba2-5a19ad0a10ca"
      },
      "outputs": [
        {
          "output_type": "execute_result",
          "data": {
            "text/plain": [
              "1.3333333333333335"
            ]
          },
          "metadata": {},
          "execution_count": 12
        }
      ],
      "source": [
        "# if you have a table of values\n",
        "from scipy.integrate import simps\n",
        "fun = lambda x:1-x**2\n",
        "# define integral inteval\n",
        "a = -1; b = 1\n",
        "N = 6\n",
        "xi = np.linspace(a,b,N+1)\n",
        "yi = fun(xi)\n",
        "simps(yi,xi)"
      ]
    },
    {
      "cell_type": "markdown",
      "metadata": {
        "id": "Mxth8PIqHLxZ"
      },
      "source": [
        "# Acknowledgement\n",
        "\n",
        "Most of this teaching material is based on:\n",
        "\n",
        "Kreyszig, E., 2018. Advanced Engineering Mathematics, 10-th edition."
      ]
    },
    {
      "cell_type": "code",
      "execution_count": null,
      "metadata": {
        "id": "bgnYPgiBHLxZ"
      },
      "outputs": [],
      "source": []
    }
  ],
  "metadata": {
    "kernelspec": {
      "display_name": "Python 3",
      "language": "python",
      "name": "python3"
    },
    "language_info": {
      "codemirror_mode": {
        "name": "ipython",
        "version": 3
      },
      "file_extension": ".py",
      "mimetype": "text/x-python",
      "name": "python",
      "nbconvert_exporter": "python",
      "pygments_lexer": "ipython3",
      "version": "3.7.3"
    },
    "toc": {
      "base_numbering": 1,
      "nav_menu": {},
      "number_sections": false,
      "sideBar": true,
      "skip_h1_title": false,
      "title_cell": "Table of Contents",
      "title_sidebar": "Contents",
      "toc_cell": false,
      "toc_position": {
        "height": "calc(100% - 180px)",
        "left": "10px",
        "top": "150px",
        "width": "406.237px"
      },
      "toc_section_display": true,
      "toc_window_display": true
    },
    "colab": {
      "provenance": [],
      "include_colab_link": true
    }
  },
  "nbformat": 4,
  "nbformat_minor": 0
}